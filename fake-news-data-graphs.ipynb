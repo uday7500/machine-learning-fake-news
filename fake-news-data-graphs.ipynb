{
 "cells": [
  {
   "cell_type": "code",
   "execution_count": 1,
   "metadata": {},
   "outputs": [
    {
     "name": "stdout",
     "output_type": "stream",
     "text": [
      "[nltk_data] Downloading package stopwords to\n",
      "[nltk_data]     /home/ec2-user/nltk_data...\n",
      "[nltk_data]   Package stopwords is already up-to-date!\n"
     ]
    }
   ],
   "source": [
    "import re\n",
    "import os\n",
    "import glob\n",
    "from bs4 import BeautifulSoup\n",
    "import nltk\n",
    "nltk.download(\"stopwords\")\n",
    "from nltk.corpus import stopwords\n",
    "from nltk.stem.porter import *\n",
    "stemmer = PorterStemmer()\n",
    "\n",
    "def review_to_words(review):\n",
    "    text = BeautifulSoup(review, \"html.parser\").get_text() # Remove HTML tags\n",
    "    text = re.sub(r\"[^a-zA-Z0-9]\", \" \", text.lower()) # Convert to lower case\n",
    "    words = text.split() # Split string into words\n",
    "    words = [w for w in words if w not in stopwords.words(\"english\")] # Remove stopwords\n",
    "    words = [PorterStemmer().stem(w) for w in words] # stem\n",
    "    \n",
    "    return words\n",
    "\n",
    "\n",
    "import pickle\n",
    "\n",
    "cache_dir = os.path.join(\"./cache\", \"fake_news_analysis\")  # where to store cache files\n",
    "os.makedirs(cache_dir, exist_ok=True)  # ensure cache directory exists\n",
    "\n",
    "def preprocess_data(data_train,data_valid, data_test, labels_train, labels_valid, labels_test,\n",
    "                    cache_dir=cache_dir, cache_file=\"preprocessed_data.pkl\"):\n",
    "    \"\"\"Convert each review to words; read from cache if available.\"\"\"\n",
    "\n",
    "    # If cache_file is not None, try to read from it first\n",
    "    cache_data = None\n",
    "    if cache_file is not None:\n",
    "        try:\n",
    "            with open(os.path.join(cache_dir, cache_file), \"rb\") as f:\n",
    "                cache_data = pickle.load(f)\n",
    "            print(\"Read preprocessed data from cache file:\", cache_file)\n",
    "        except:\n",
    "            pass  # unable to read from cache, but that's okay\n",
    "    \n",
    "    # If cache is missing, then do the heavy lifting\n",
    "    if cache_data is None:\n",
    "        # Preprocess training and test data to obtain words for each review\n",
    "        #words_train = list(map(review_to_words, data_train))\n",
    "        #words_test = list(map(review_to_words, data_test))\n",
    "        words_train = [review_to_words(data) for data in data_train]\n",
    "        words_valid = [review_to_words(data) for data in data_valid]\n",
    "        words_test = [review_to_words(data) for data in data_test]\n",
    "        \n",
    "        \n",
    "        # Write to cache file for future runs\n",
    "        if cache_file is not None:\n",
    "            cache_data = dict(words_train=words_train, words_valid = words_valid, words_test=words_test,\n",
    "                              labels_train=labels_train, labels_valid = labels_valid, labels_test=labels_test)\n",
    "            with open(os.path.join(cache_dir, cache_file), \"wb\") as f:\n",
    "                pickle.dump(cache_data, f)\n",
    "            print(\"Wrote preprocessed data to cache file:\", cache_file)\n",
    "    else:\n",
    "        # Unpack data loaded from cache file\n",
    "        words_train, words_valid, words_test, labels_train, labels_valid, labels_test = (cache_data['words_train'], cache_data['words_valid'],\n",
    "                cache_data['words_test'], cache_data['labels_train'], cache_data['labels_valid'], cache_data['labels_test'])\n",
    "    \n",
    "    return words_train, words_valid, words_test, labels_train, labels_valid, labels_test\n",
    "\n",
    "\n",
    "import numpy as np\n",
    "from sklearn.feature_extraction.text import CountVectorizer\n",
    "from sklearn.externals import joblib\n",
    "# joblib is an enhanced version of pickle that is more efficient for storing NumPy arrays\n",
    "\n",
    "def extract_BoW_features(words_train, words_valid, words_test, vocabulary_size=5000,\n",
    "                         cache_dir=cache_dir, cache_file=\"bow_features.pkl\"):\n",
    "    \"\"\"Extract Bag-of-Words for a given set of documents, already preprocessed into words.\"\"\"\n",
    "    \n",
    "    # If cache_file is not None, try to read from it first\n",
    "    cache_data = None\n",
    "    if cache_file is not None:\n",
    "        try:\n",
    "            with open(os.path.join(cache_dir, cache_file), \"rb\") as f:\n",
    "                cache_data = joblib.load(f)\n",
    "            print(\"Read features from cache file:\", cache_file)\n",
    "        except:\n",
    "            pass  # unable to read from cache, but that's okay\n",
    "    \n",
    "    # If cache is missing, then do the heavy lifting\n",
    "    if cache_data is None:\n",
    "        # Fit a vectorizer to training documents and use it to transform them\n",
    "        # NOTE: Training documents have already been preprocessed and tokenized into words;\n",
    "        #       pass in dummy functions to skip those steps, e.g. preprocessor=lambda x: x\n",
    "        vectorizer = CountVectorizer(max_features=vocabulary_size,\n",
    "                preprocessor=lambda x: x, tokenizer=lambda x: x)  # already preprocessed\n",
    "        features_train = vectorizer.fit_transform(words_train).toarray()\n",
    "        features_valid =  vectorizer.fit_transform(words_valid).toarray()\n",
    "        # Apply the same vectorizer to transform the test documents (ignore unknown words)\n",
    "        features_test = vectorizer.transform(words_test).toarray()\n",
    "        # NOTE: Remember to convert the features using .toarray() for a compact representation\n",
    "        \n",
    "        # Write to cache file for future runs (store vocabulary as well)\n",
    "        if cache_file is not None:\n",
    "            vocabulary = vectorizer.vocabulary_\n",
    "            cache_data = dict(features_train=features_train, features_valid=features_valid, features_test=features_test,\n",
    "                             vocabulary=vocabulary)\n",
    "            with open(os.path.join(cache_dir, cache_file), \"wb\") as f:\n",
    "                joblib.dump(cache_data, f)\n",
    "            print(\"Wrote features to cache file:\", cache_file)\n",
    "    else:\n",
    "        # Unpack data loaded from cache file\n",
    "        features_train, features_valid, features_test, vocabulary = (cache_data['features_train'], cache_data['features_valid'],\n",
    "                cache_data['features_test'], cache_data['vocabulary'])\n",
    "    \n",
    "    # Return both the extracted features as well as the vocabulary\n",
    "    return features_train, features_valid, features_test, vocabulary"
   ]
  },
  {
   "cell_type": "code",
   "execution_count": 2,
   "metadata": {},
   "outputs": [],
   "source": [
    "def mapLablesToNumbers(labels):\n",
    "    y_label_dict = {\"pants-fire\" : 0, \"FALSE\" : 1, \"barely-true\" : 2, \"half-true\" : 3, \"mostly-true\" : 4, \"TRUE\" : 5, \"false\": 1, \"true\": 5}\n",
    "    mapped_data = labels.apply(lambda x: y_label_dict[x])\n",
    "    return mapped_data\n",
    "    "
   ]
  },
  {
   "cell_type": "code",
   "execution_count": 3,
   "metadata": {},
   "outputs": [],
   "source": [
    "import pandas as pd\n",
    "columns = [\"file\",\"result\",\"news\",\"type\",\"person\",\"desingation\",\"state\",\"party\",\"PF\",\"F\",\"BT\",\"MT\",\"KT\",\"context\"]\n",
    "train_complete_data = pd.read_csv(os.path.join(\"./data\", \"train.tsv\"), sep = \"\\t\", names = columns)\n",
    "valid_complete_data = pd.read_csv(os.path.join(\"./data\", \"valid.tsv\"), sep='\\t', names = columns)\n",
    "test_complete_data = pd.read_csv(os.path.join(\"./data\", \"test.tsv\"), sep='\\t', names = columns)"
   ]
  },
  {
   "cell_type": "code",
   "execution_count": 30,
   "metadata": {},
   "outputs": [
    {
     "data": {
      "image/png": "[encoded data removed]",
      "text/plain": [
       "<Figure size 432x288 with 1 Axes>"
      ]
     },
     "metadata": {},
     "output_type": "display_data"
    },
    {
     "data": {
      "image/png": "[encoded data removed]",
      "text/plain": [
       "<Figure size 432x288 with 1 Axes>"
      ]
     },
     "metadata": {},
     "output_type": "display_data"
    },
    {
     "data": {
      "image/png": "[encoded data removed]",
      "text/plain": [
       "<Figure size 432x288 with 1 Axes>"
      ]
     },
     "metadata": {},
     "output_type": "display_data"
    },
    {
     "name": "stdout",
     "output_type": "stream",
     "text": [
      "result\n",
      "barely-true    1654\n",
      "false          1995\n",
      "half-true      2114\n",
      "mostly-true    1962\n",
      "pants-fire      839\n",
      "true           1676\n",
      "Name: file, dtype: int64 train count\n",
      "result\n",
      "barely-true    237\n",
      "false          263\n",
      "half-true      248\n",
      "mostly-true    251\n",
      "pants-fire     116\n",
      "true           169\n",
      "Name: file, dtype: int64 valid count\n",
      "result\n",
      "barely-true    212\n",
      "false          249\n",
      "half-true      265\n",
      "mostly-true    241\n",
      "pants-fire      92\n",
      "true           208\n",
      "Name: file, dtype: int64 test count\n"
     ]
    }
   ],
   "source": [
    "import matplotlib.pyplot as plt\n",
    "%matplotlib inline\n",
    "\n",
    "train_count = train_complete_data.groupby([\"result\"]).count()[\"file\"]\n",
    "train_labels = []\n",
    "train_sizes = []\n",
    "for index, value in train_count.items():\n",
    "    train_labels.append(index)\n",
    "    train_sizes.append(value)\n",
    "\n",
    "fig1, ax1 = plt.subplots()\n",
    "ax1.pie(train_sizes, labels=train_labels, autopct='%1.1f%%',\n",
    "        shadow=True, startangle=90)\n",
    "ax1.axis('equal')  # Equal aspect ratio ensures that pie is drawn as a circle.\n",
    "\n",
    "\n",
    "valid_count = valid_complete_data.groupby([\"result\"]).count()[\"file\"]\n",
    "valid_labels = []\n",
    "valid_sizes = []\n",
    "for index, value in valid_count.items():\n",
    "    valid_labels.append(index)\n",
    "    valid_sizes.append(value)\n",
    "\n",
    "fig2, ax2 = plt.subplots()\n",
    "ax2.pie(valid_sizes, labels=valid_labels, autopct='%1.1f%%',\n",
    "        shadow=True, startangle=90)\n",
    "ax2.axis('equal')  # Equal aspect ratio ensures that pie is drawn as a circle.\n",
    "\n",
    "\n",
    "\n",
    "test_count = test_complete_data.groupby([\"result\"]).count()[\"file\"]\n",
    "test_labels = []\n",
    "test_sizes = []\n",
    "for index, value in test_count.items():\n",
    "    test_labels.append(index)\n",
    "    test_sizes.append(value)\n",
    "\n",
    "fig3, ax3 = plt.subplots()\n",
    "ax3.pie(test_sizes, labels=test_labels, autopct='%1.1f%%',\n",
    "        shadow=True, startangle=90)\n",
    "ax3.axis('equal')  # Equal aspect ratio ensures that pie is drawn as a circle.\n",
    "\n",
    "plt.show()\n",
    "\n",
    "print(train_count, \"train count\")\n",
    "print(valid_count, \"valid count\")\n",
    "print(test_count, \"test count\")"
   ]
  },
  {
   "cell_type": "code",
   "execution_count": 12,
   "metadata": {},
   "outputs": [
    {
     "name": "stdout",
     "output_type": "stream",
     "text": [
      "10240 train data - Before\n",
      "10240 train label - Before\n",
      "1284 valid data - Before\n",
      "1284 valid label - Before\n",
      "1267 test data - Before\n",
      "1267 test label - Before\n",
      "11524  Train data  - After\n",
      "11524 Train label - After\n",
      "1284 valid data - After\n",
      "1284 valid label - After\n"
     ]
    }
   ],
   "source": [
    "\n",
    "train_data = train_complete_data[\"news\"]\n",
    "train_label = mapLablesToNumbers(train_complete_data[\"result\"])\n",
    "valid_data = valid_complete_data[\"news\"]\n",
    "valid_label = mapLablesToNumbers(valid_complete_data[\"result\"])\n",
    "test_data = test_complete_data[\"news\"]\n",
    "test_label = mapLablesToNumbers(test_complete_data[\"result\"])\n",
    "\n",
    "\n",
    "print(len(train_data), \"train data - Before\")\n",
    "print(len(train_label), \"train label - Before\")\n",
    "\n",
    "print(len(valid_data), \"valid data - Before\")\n",
    "print(len(valid_label), \"valid label - Before\")\n",
    "\n",
    "print(len(test_data), \"test data - Before\")\n",
    "print(len(test_label), \"test label - Before\")\n",
    "\n",
    "train_data = pd.concat([train_data,valid_data], axis = 0)\n",
    "train_label = pd.concat([train_label, valid_label], axis = 0)\n",
    "\n",
    "print(len(train_data), \" Train data  - After\")\n",
    "print(len(train_label), \"Train label - After\")\n",
    "print(len(valid_data), \"valid data - After\")\n",
    "print(len(valid_label), \"valid label - After\")"
   ]
  },
  {
   "cell_type": "code",
   "execution_count": 28,
   "metadata": {},
   "outputs": [
    {
     "name": "stdout",
     "output_type": "stream",
     "text": [
      "Read preprocessed data from cache file: preprocessed_data.pkl\n",
      "Read features from cache file: bow_features.pkl\n",
      "10240  Train data  - After\n",
      "1284 valid data - After\n",
      "1284 valid label - After\n",
      "10240 Train label - After\n"
     ]
    }
   ],
   "source": [
    "train_data, valid_data, test_data, train_label, valid_label, test_label = preprocess_data(train_data, valid_data, test_data, train_label, valid_label, test_label)\n",
    "train_data, valid_data, test_data, vocabulary = extract_BoW_features(train_data, valid_data, test_data)\n",
    "valid_data = train_data[10240:]\n",
    "train_data = train_data[:10240]\n",
    "valid_label = train_label[10240:]\n",
    "train_label = train_label[:10240]\n",
    "\n",
    "print(len(train_data), \" Train data  - After\")\n",
    "print(len(valid_data), \"valid data - After\")\n",
    "print(len(valid_label), \"valid label - After\")\n",
    "print(len(train_label), \"Train label - After\")\n",
    "\n",
    "train_data, valid_data, test_data = (pd.DataFrame(train_data), pd.DataFrame(valid_data), pd.DataFrame(test_data))\n",
    "#train_label, valid_label, test_label = (pd.DataFrame(train_label[:].values), pd.DataFrame(valid_label[:].values), pd.DataFrame(test_label[:].values))\n"
   ]
  },
  {
   "cell_type": "code",
   "execution_count": 29,
   "metadata": {},
   "outputs": [
    {
     "name": "stdout",
     "output_type": "stream",
     "text": [
      "1267\n"
     ]
    }
   ],
   "source": [
    "data_dir = './data/xgboost'\n",
    "if not os.path.exists(data_dir):\n",
    "    os.makedirs(data_dir)\n",
    "    \n",
    "# First, save the test data to test.csv in the data_dir directory. Note that we do not save the associated ground truth\n",
    "# labels, instead we will use them later to compare with our model output.\n",
    "print(len(test_data))\n",
    "pd.DataFrame(test_data).to_csv(os.path.join(data_dir, 'test.csv'), header = False, index = False)\n",
    "temp_test = pd.read_csv(os.path.join(data_dir, 'test.csv'))\n",
    "# TODO: Save the training and validation data to train.csv and validation.csv in the data_dir directory.\n",
    "#       Make sure that the files you create are in the correct format.\n",
    "\n",
    "# Solution:\n",
    "#\n",
    "#\n",
    "\n",
    "pd.concat([valid_label, valid_data], axis=1).to_csv(os.path.join(data_dir, 'validation.csv'), header = False, index = False)\n",
    "pd.concat([train_label, train_data], axis=1).to_csv(os.path.join(data_dir, 'train.csv'), header = False, index = False)\n",
    "temp_train = pd.read_csv(os.path.join(data_dir, 'train.csv'))\n",
    "temp_validation = pd.read_csv(os.path.join(data_dir, 'validation.csv'))\n",
    "\n",
    "# print(len(temp_train), \"Train temp\")\n",
    "# print(len(temp_validation), \"Validation Temp\")\n",
    "# print(len(temp_test), \"Test Temp\")\n",
    "# print(len(valid_label), \"valid label - Temp\")\n",
    "# print(len(train_label), \"Train label - Temp\")\n",
    "# print(len(test_label), \"Test label - Temp\")"
   ]
  },
  {
   "cell_type": "code",
   "execution_count": 30,
   "metadata": {},
   "outputs": [],
   "source": [
    "import sagemaker\n",
    "\n",
    "session = sagemaker.Session() # Store the current SageMaker session\n",
    "\n",
    "# S3 prefix (which folder will we use)\n",
    "prefix = 'fake-xgboost'\n",
    "\n",
    "# TODO: Upload the test.csv, train.csv and validation.csv files which are contained in data_dir to S3 using sess.upload_data().\n",
    "test_location = None\n",
    "val_location = None\n",
    "train_location = None\n",
    "\n",
    "# Solution:\n",
    "test_location = session.upload_data(os.path.join(data_dir, 'test.csv'), key_prefix=prefix)\n",
    "val_location = session.upload_data(os.path.join(data_dir, 'validation.csv'), key_prefix=prefix)\n",
    "train_location = session.upload_data(os.path.join(data_dir, 'train.csv'), key_prefix=prefix)"
   ]
  },
  {
   "cell_type": "code",
   "execution_count": 31,
   "metadata": {},
   "outputs": [],
   "source": [
    "# We need to retrieve the location of the container which is provided by Amazon for using XGBoost.\n",
    "# As a matter of convenience, the training and inference code both use the same container.\n",
    "from sagemaker.amazon.amazon_estimator import get_image_uri\n",
    "from sagemaker import get_execution_role\n",
    "\n",
    "container = get_image_uri(session.boto_region_name, 'xgboost','0.90-1')\n",
    "role = get_execution_role()"
   ]
  },
  {
   "cell_type": "code",
   "execution_count": 32,
   "metadata": {},
   "outputs": [],
   "source": [
    "# TODO: Create a SageMaker estimator using the container location determined in the previous cell.\n",
    "#       It is recommended that you use a single training instance of type ml.m4.xlarge. It is also\n",
    "#       recommended that you use 's3://{}/{}/output'.format(session.default_bucket(), prefix) as the\n",
    "#       output path.\n",
    "\n",
    "xgb = None\n",
    "\n",
    "# Solution:\n",
    "xgb = sagemaker.estimator.Estimator(container, # The location of the container we wish to use\n",
    "                                    role,                                    # What is our current IAM Role\n",
    "                                    train_instance_count=1,                  # How many compute instances\n",
    "                                    train_instance_type='ml.m4.xlarge',      # What kind of compute instances\n",
    "                                    output_path='s3://{}/{}/output'.format(session.default_bucket(), prefix),\n",
    "                                    sagemaker_session=session)\n",
    "\n",
    "# TODO: Set the XGBoost hyperparameters in the xgb object. Don't forget that in this case we have a binary\n",
    "#       label so we should be using the 'binary:logistic' objective.\n",
    "\n",
    "# Solution:\n",
    "xgb.set_hyperparameters(max_depth=5,\n",
    "                        eta=0.2,\n",
    "                        gamma=4,\n",
    "                        min_child_weight=4,\n",
    "                        subsample=0.8,\n",
    "                        silent=0,\n",
    "                        objective='multi:softprob',\n",
    "                        early_stopping_rounds=10,\n",
    "                        eval_metric = 'mlogloss',\n",
    "                        num_class = 6,\n",
    "                        num_round=700)\n",
    "\n",
    "s3_input_train = sagemaker.s3_input(s3_data=train_location, content_type='csv')\n",
    "s3_input_validation = sagemaker.s3_input(s3_data=val_location, content_type='csv')"
   ]
  },
  {
   "cell_type": "code",
   "execution_count": null,
   "metadata": {},
   "outputs": [
    {
     "name": "stdout",
     "output_type": "stream",
     "text": [
      "2020-05-07 02:35:28 Starting - Starting the training job.."
     ]
    }
   ],
   "source": [
    "xgb.fit({'train': s3_input_train, 'validation': s3_input_validation})"
   ]
  },
  {
   "cell_type": "code",
   "execution_count": null,
   "metadata": {},
   "outputs": [],
   "source": [
    "# TODO: Create a transformer object from the trained model. Using an instance count of 1 and an instance type of ml.m4.xlarge\n",
    "#       should be more than enough.\n",
    "xgb_transformer = xgb.transformer(instance_count = 1, instance_type = 'ml.m4.xlarge')\n",
    "\n",
    "# TODO: Start the transform job. Make sure to specify the content type and the split type of the test data.\n",
    "xgb_transformer.transform(test_location, content_type='text/csv', split_type='Line')"
   ]
  },
  {
   "cell_type": "code",
   "execution_count": null,
   "metadata": {},
   "outputs": [],
   "source": [
    "xgb_transformer.wait()"
   ]
  },
  {
   "cell_type": "code",
   "execution_count": null,
   "metadata": {},
   "outputs": [],
   "source": [
    "!aws s3 cp --recursive $xgb_transformer.output_path $data_dir"
   ]
  },
  {
   "cell_type": "code",
   "execution_count": null,
   "metadata": {},
   "outputs": [],
   "source": [
    "!aws s3 cp --recursive $test_location ./temp/"
   ]
  },
  {
   "cell_type": "code",
   "execution_count": null,
   "metadata": {},
   "outputs": [],
   "source": [
    "predictions = pd.read_csv(os.path.join(data_dir, 'test.csv.out'), header=None)\n",
    "#predictions = [round(num) for num in predictions.squeeze().values]\n",
    "\n",
    "\n",
    "print(len(test_label), 'test label')\n",
    "print(len(test_data), 'test data')\n",
    "print(len(train_label), 'train label')\n",
    "print(len(train_data), 'train data')\n",
    "print(len(valid_label), 'valid label')\n",
    "print(len(valid_data), 'valid label')\n",
    "\n",
    "#tempData = pd.read_csv('./temp/test.csv')\n",
    "#tempData\n",
    "predictions[0] = predictions[0].str.replace('[', \"\")\n",
    "predictions[5] = predictions[5].str.replace(']', \"\")\n",
    "predictions = predictions.apply(pd.to_numeric)\n",
    "predictions = predictions.idxmax(axis=1)\n",
    "\n",
    "\n",
    "# print(len(test_label))"
   ]
  },
  {
   "cell_type": "code",
   "execution_count": null,
   "metadata": {},
   "outputs": [],
   "source": [
    "from sklearn.metrics import accuracy_score\n",
    "accuracy_score(test_label, predictions)"
   ]
  },
  {
   "cell_type": "code",
   "execution_count": null,
   "metadata": {},
   "outputs": [],
   "source": []
  }
 ],
 "metadata": {
  "kernelspec": {
   "display_name": "conda_python3",
   "language": "python",
   "name": "conda_python3"
  },
  "language_info": {
   "codemirror_mode": {
    "name": "ipython",
    "version": 3
   },
   "file_extension": ".py",
   "mimetype": "text/x-python",
   "name": "python",
   "nbconvert_exporter": "python",
   "pygments_lexer": "ipython3",
   "version": "3.6.5"
  }
 },
 "nbformat": 4,
 "nbformat_minor": 4
}
